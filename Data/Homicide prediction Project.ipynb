{
 "cells": [
  {
   "cell_type": "code",
   "execution_count": 1,
   "id": "0fec5c9c-f6fa-4d2a-a683-985814ae7901",
   "metadata": {},
   "outputs": [],
   "source": [
    "# standard external libraries\n",
    "import pandas as pd\n",
    "import numpy as np\n",
    "import matplotlib.pyplot as plt"
   ]
  },
  {
   "cell_type": "markdown",
   "id": "450657be-5bef-4bf9-9f56-c2557b1cd6a4",
   "metadata": {},
   "source": [
    "\n",
    "The dataset is from: https://open.canada.ca/data/en/dataset/ec8d3e9b-c21a-01b2-9787-abb4b55940ea\n",
    "\n",
    "It contains crimes by offence type. The target variable is \"Homicide\"."
   ]
  },
  {
   "cell_type": "code",
   "execution_count": 2,
   "id": "933ba0dc-d69a-426c-ba18-6e76abfa8aab",
   "metadata": {},
   "outputs": [],
   "source": [
    "# load dataset\n",
    "\n",
    "file_location ='database_var.csv'\n",
    "\n",
    "df = pd.read_csv(file_location)"
   ]
  },
  {
   "cell_type": "code",
   "execution_count": 3,
   "id": "440c0d41-c5aa-404f-8aca-f4fecde23f08",
   "metadata": {},
   "outputs": [
    {
     "name": "stdout",
     "output_type": "stream",
     "text": [
      "              Year  Total.Violent.Criminal.Code.Violations     Homicide  \\\n",
      "count  2100.000000                             2100.000000  2100.000000   \n",
      "mean   2013.000000                            15285.523810    29.364762   \n",
      "std       4.321523                            49855.307211    89.091745   \n",
      "min    2006.000000                                0.000000     0.000000   \n",
      "25%    2009.000000                              100.000000     0.000000   \n",
      "50%    2013.000000                              484.500000     0.000000   \n",
      "75%    2017.000000                             5490.750000    10.000000   \n",
      "max    2020.000000                           480004.000000   743.000000   \n",
      "\n",
      "       Murder..First.degree  Murder..Second.degree  Manslaughter  \\\n",
      "count           2100.000000            2100.000000   2100.000000   \n",
      "mean              10.998571              14.642857      3.702381   \n",
      "std               35.508925              43.744440     11.310360   \n",
      "min                0.000000               0.000000      0.000000   \n",
      "25%                0.000000               0.000000      0.000000   \n",
      "50%                0.000000               0.000000      0.000000   \n",
      "75%                4.000000               5.000000      1.000000   \n",
      "max              309.000000             339.000000     94.000000   \n",
      "\n",
      "       Total.other.violations.causing.death  Attempted.Murder  \\\n",
      "count                           2100.000000       2100.000000   \n",
      "mean                               4.997619         34.842381   \n",
      "std                               15.754503        108.465482   \n",
      "min                                0.000000          0.000000   \n",
      "25%                                0.000000          0.000000   \n",
      "50%                                0.000000          0.000000   \n",
      "75%                                2.000000         13.000000   \n",
      "max                              160.000000        865.000000   \n",
      "\n",
      "       Sexual.Assault..Level.3..Aggravated  \\\n",
      "count                          2100.000000   \n",
      "mean                              5.935714   \n",
      "std                              18.775451   \n",
      "min                               0.000000   \n",
      "25%                               0.000000   \n",
      "50%                               0.000000   \n",
      "75%                               2.000000   \n",
      "max                             181.000000   \n",
      "\n",
      "       Sexual.Assault..Level.2..with.a.Weapon.or.Bodily.Harm  ...  \\\n",
      "count                                        2100.000000      ...   \n",
      "mean                                           16.839524      ...   \n",
      "std                                            54.376342      ...   \n",
      "min                                             0.000000      ...   \n",
      "25%                                             0.000000      ...   \n",
      "50%                                             0.000000      ...   \n",
      "75%                                             6.000000      ...   \n",
      "max                                           608.000000      ...   \n",
      "\n",
      "       Income.Tax.Act  Canada.Shipping.Act  Canada.Health.Act  Customs.Act  \\\n",
      "count     2100.000000          2100.000000        2100.000000  2100.000000   \n",
      "mean         0.983333           132.763333           0.649524    69.007143   \n",
      "std          4.671200           511.644005           5.751982   680.709404   \n",
      "min          0.000000             0.000000           0.000000     0.000000   \n",
      "25%          0.000000             0.000000           0.000000     0.000000   \n",
      "50%          0.000000             0.000000           0.000000     0.000000   \n",
      "75%          0.000000             4.000000           0.000000     1.000000   \n",
      "max         85.000000          4367.000000         126.000000  9716.000000   \n",
      "\n",
      "       Competition.Act   Excise.Act  Immigration...Refugee.Protection.Act  \\\n",
      "count      2100.000000  2100.000000                           2100.000000   \n",
      "mean          0.054762    29.242381                             26.648571   \n",
      "std           0.541161   127.799315                            119.236759   \n",
      "min           0.000000     0.000000                              0.000000   \n",
      "25%           0.000000     0.000000                              0.000000   \n",
      "50%           0.000000     1.000000                              0.000000   \n",
      "75%           0.000000     5.000000                              1.000000   \n",
      "max          12.000000  2158.000000                           1416.000000   \n",
      "\n",
      "       Firearms.Act  National.Defense.Act  Other.Federal.Statutes  \n",
      "count   2100.000000           2100.000000             2100.000000  \n",
      "mean      27.765238              0.071429              330.065238  \n",
      "std      135.821860              0.564676             1216.995316  \n",
      "min        0.000000              0.000000                0.000000  \n",
      "25%        0.000000              0.000000                0.000000  \n",
      "50%        0.000000              0.000000                3.000000  \n",
      "75%        4.000000              0.000000               85.250000  \n",
      "max     1879.000000             10.000000            15093.000000  \n",
      "\n",
      "[8 rows x 111 columns]\n",
      "<class 'pandas.core.frame.DataFrame'>\n",
      "RangeIndex: 2100 entries, 0 to 2099\n",
      "Columns: 115 entries, Year to Other.Federal.Statutes\n",
      "dtypes: float64(5), int64(106), object(4)\n",
      "memory usage: 1.8+ MB\n"
     ]
    }
   ],
   "source": [
    "print(df.describe())\n",
    "\n",
    "df.info()"
   ]
  },
  {
   "cell_type": "code",
   "execution_count": 4,
   "id": "08fcc588-82ff-404d-8654-bbf86d84a3b7",
   "metadata": {},
   "outputs": [
    {
     "data": {
      "text/html": [
       "<div>\n",
       "<style scoped>\n",
       "    .dataframe tbody tr th:only-of-type {\n",
       "        vertical-align: middle;\n",
       "    }\n",
       "\n",
       "    .dataframe tbody tr th {\n",
       "        vertical-align: top;\n",
       "    }\n",
       "\n",
       "    .dataframe thead th {\n",
       "        text-align: right;\n",
       "    }\n",
       "</style>\n",
       "<table border=\"1\" class=\"dataframe\">\n",
       "  <thead>\n",
       "    <tr style=\"text-align: right;\">\n",
       "      <th></th>\n",
       "      <th>Year</th>\n",
       "      <th>Geography</th>\n",
       "      <th>Data.Type</th>\n",
       "      <th>Homicide</th>\n",
       "      <th>Attempted.Murder</th>\n",
       "      <th>Sexual.Assault..Level.1</th>\n",
       "      <th>Assault..Level.1</th>\n",
       "      <th>Criminal.Harassment</th>\n",
       "      <th>Uttering.Threats</th>\n",
       "    </tr>\n",
       "  </thead>\n",
       "  <tbody>\n",
       "    <tr>\n",
       "      <th>0</th>\n",
       "      <td>2006</td>\n",
       "      <td>Labrador West, R.N.C.</td>\n",
       "      <td>actual_incidents</td>\n",
       "      <td>0</td>\n",
       "      <td>0</td>\n",
       "      <td>7</td>\n",
       "      <td>58</td>\n",
       "      <td>0</td>\n",
       "      <td>31</td>\n",
       "    </tr>\n",
       "    <tr>\n",
       "      <th>1</th>\n",
       "      <td>2006</td>\n",
       "      <td>Corner Brook, R.N.C.</td>\n",
       "      <td>actual_incidents</td>\n",
       "      <td>1</td>\n",
       "      <td>0</td>\n",
       "      <td>10</td>\n",
       "      <td>108</td>\n",
       "      <td>5</td>\n",
       "      <td>55</td>\n",
       "    </tr>\n",
       "    <tr>\n",
       "      <th>2</th>\n",
       "      <td>2006</td>\n",
       "      <td>Northeast Avalon R.N.C</td>\n",
       "      <td>actual_incidents</td>\n",
       "      <td>1</td>\n",
       "      <td>1</td>\n",
       "      <td>107</td>\n",
       "      <td>912</td>\n",
       "      <td>65</td>\n",
       "      <td>596</td>\n",
       "    </tr>\n",
       "    <tr>\n",
       "      <th>3</th>\n",
       "      <td>2006</td>\n",
       "      <td>Labrador District, RCMP</td>\n",
       "      <td>actual_incidents</td>\n",
       "      <td>1</td>\n",
       "      <td>1</td>\n",
       "      <td>73</td>\n",
       "      <td>735</td>\n",
       "      <td>12</td>\n",
       "      <td>145</td>\n",
       "    </tr>\n",
       "    <tr>\n",
       "      <th>4</th>\n",
       "      <td>2006</td>\n",
       "      <td>Northern Peninsula District, RCMP</td>\n",
       "      <td>actual_incidents</td>\n",
       "      <td>0</td>\n",
       "      <td>0</td>\n",
       "      <td>9</td>\n",
       "      <td>43</td>\n",
       "      <td>2</td>\n",
       "      <td>20</td>\n",
       "    </tr>\n",
       "    <tr>\n",
       "      <th>...</th>\n",
       "      <td>...</td>\n",
       "      <td>...</td>\n",
       "      <td>...</td>\n",
       "      <td>...</td>\n",
       "      <td>...</td>\n",
       "      <td>...</td>\n",
       "      <td>...</td>\n",
       "      <td>...</td>\n",
       "      <td>...</td>\n",
       "    </tr>\n",
       "    <tr>\n",
       "      <th>2095</th>\n",
       "      <td>2020</td>\n",
       "      <td>Burin Peninsula District, RCMP</td>\n",
       "      <td>actual_incidents</td>\n",
       "      <td>0</td>\n",
       "      <td>1</td>\n",
       "      <td>5</td>\n",
       "      <td>109</td>\n",
       "      <td>1</td>\n",
       "      <td>76</td>\n",
       "    </tr>\n",
       "    <tr>\n",
       "      <th>2096</th>\n",
       "      <td>2020</td>\n",
       "      <td>Burin Peninsula District, RCMP</td>\n",
       "      <td>total_cleared</td>\n",
       "      <td>0</td>\n",
       "      <td>1</td>\n",
       "      <td>2</td>\n",
       "      <td>65</td>\n",
       "      <td>0</td>\n",
       "      <td>38</td>\n",
       "    </tr>\n",
       "    <tr>\n",
       "      <th>2097</th>\n",
       "      <td>2020</td>\n",
       "      <td>Burin Peninsula District, RCMP</td>\n",
       "      <td>tot_persons_charged</td>\n",
       "      <td>0</td>\n",
       "      <td>1</td>\n",
       "      <td>2</td>\n",
       "      <td>34</td>\n",
       "      <td>0</td>\n",
       "      <td>13</td>\n",
       "    </tr>\n",
       "    <tr>\n",
       "      <th>2098</th>\n",
       "      <td>2020</td>\n",
       "      <td>Burin Peninsula District, RCMP</td>\n",
       "      <td>tot_adults_charged</td>\n",
       "      <td>0</td>\n",
       "      <td>1</td>\n",
       "      <td>2</td>\n",
       "      <td>27</td>\n",
       "      <td>0</td>\n",
       "      <td>12</td>\n",
       "    </tr>\n",
       "    <tr>\n",
       "      <th>2099</th>\n",
       "      <td>2020</td>\n",
       "      <td>Burin Peninsula District, RCMP</td>\n",
       "      <td>tot_youth_charged</td>\n",
       "      <td>0</td>\n",
       "      <td>0</td>\n",
       "      <td>0</td>\n",
       "      <td>7</td>\n",
       "      <td>0</td>\n",
       "      <td>1</td>\n",
       "    </tr>\n",
       "  </tbody>\n",
       "</table>\n",
       "<p>2100 rows × 9 columns</p>\n",
       "</div>"
      ],
      "text/plain": [
       "      Year                          Geography            Data.Type  Homicide  \\\n",
       "0     2006              Labrador West, R.N.C.     actual_incidents         0   \n",
       "1     2006               Corner Brook, R.N.C.     actual_incidents         1   \n",
       "2     2006             Northeast Avalon R.N.C     actual_incidents         1   \n",
       "3     2006            Labrador District, RCMP     actual_incidents         1   \n",
       "4     2006  Northern Peninsula District, RCMP     actual_incidents         0   \n",
       "...    ...                                ...                  ...       ...   \n",
       "2095  2020     Burin Peninsula District, RCMP     actual_incidents         0   \n",
       "2096  2020     Burin Peninsula District, RCMP        total_cleared         0   \n",
       "2097  2020     Burin Peninsula District, RCMP  tot_persons_charged         0   \n",
       "2098  2020     Burin Peninsula District, RCMP   tot_adults_charged         0   \n",
       "2099  2020     Burin Peninsula District, RCMP    tot_youth_charged         0   \n",
       "\n",
       "      Attempted.Murder  Sexual.Assault..Level.1  Assault..Level.1  \\\n",
       "0                    0                        7                58   \n",
       "1                    0                       10               108   \n",
       "2                    1                      107               912   \n",
       "3                    1                       73               735   \n",
       "4                    0                        9                43   \n",
       "...                ...                      ...               ...   \n",
       "2095                 1                        5               109   \n",
       "2096                 1                        2                65   \n",
       "2097                 1                        2                34   \n",
       "2098                 1                        2                27   \n",
       "2099                 0                        0                 7   \n",
       "\n",
       "      Criminal.Harassment  Uttering.Threats  \n",
       "0                       0                31  \n",
       "1                       5                55  \n",
       "2                      65               596  \n",
       "3                      12               145  \n",
       "4                       2                20  \n",
       "...                   ...               ...  \n",
       "2095                    1                76  \n",
       "2096                    0                38  \n",
       "2097                    0                13  \n",
       "2098                    0                12  \n",
       "2099                    0                 1  \n",
       "\n",
       "[2100 rows x 9 columns]"
      ]
     },
     "execution_count": 4,
     "metadata": {},
     "output_type": "execute_result"
    }
   ],
   "source": [
    "# keep needed columns\n",
    "data = df[['Year', 'Geography', 'Data.Type', 'Homicide','Attempted.Murder', 'Sexual.Assault..Level.1', 'Assault..Level.1', 'Criminal.Harassment', 'Uttering.Threats']]\n",
    "data"
   ]
  },
  {
   "cell_type": "code",
   "execution_count": 5,
   "id": "a0dcace8-191a-4672-98b9-99270a24a931",
   "metadata": {},
   "outputs": [
    {
     "name": "stdout",
     "output_type": "stream",
     "text": [
      "Year 0\n",
      "Geography 0\n",
      "Data.Type 0\n",
      "Homicide 0\n",
      "Attempted.Murder 0\n",
      "Sexual.Assault..Level.1 0\n",
      "Assault..Level.1 0\n",
      "Criminal.Harassment 0\n",
      "Uttering.Threats 0\n"
     ]
    }
   ],
   "source": [
    "#total count of NaNs\n",
    "\n",
    "for idx,col in enumerate(data.isnull().sum()):\n",
    "    print(data.columns[idx],col)"
   ]
  },
  {
   "cell_type": "code",
   "execution_count": 6,
   "id": "2cf0eb80-b218-4121-a12b-6161770e877e",
   "metadata": {},
   "outputs": [
    {
     "data": {
      "text/html": [
       "<div>\n",
       "<style scoped>\n",
       "    .dataframe tbody tr th:only-of-type {\n",
       "        vertical-align: middle;\n",
       "    }\n",
       "\n",
       "    .dataframe tbody tr th {\n",
       "        vertical-align: top;\n",
       "    }\n",
       "\n",
       "    .dataframe thead th {\n",
       "        text-align: right;\n",
       "    }\n",
       "</style>\n",
       "<table border=\"1\" class=\"dataframe\">\n",
       "  <thead>\n",
       "    <tr style=\"text-align: right;\">\n",
       "      <th></th>\n",
       "      <th>Year</th>\n",
       "      <th>Geography</th>\n",
       "      <th>Data.Type</th>\n",
       "      <th>Homicide</th>\n",
       "      <th>Attempted.Murder</th>\n",
       "      <th>Sexual.Assault..Level.1</th>\n",
       "      <th>Assault..Level.1</th>\n",
       "      <th>Criminal.Harassment</th>\n",
       "      <th>Uttering.Threats</th>\n",
       "    </tr>\n",
       "  </thead>\n",
       "  <tbody>\n",
       "    <tr>\n",
       "      <th>605</th>\n",
       "      <td>2006</td>\n",
       "      <td>Newfoundland and Labrador</td>\n",
       "      <td>actual_incidents</td>\n",
       "      <td>7</td>\n",
       "      <td>5</td>\n",
       "      <td>336</td>\n",
       "      <td>3097</td>\n",
       "      <td>155</td>\n",
       "      <td>1585</td>\n",
       "    </tr>\n",
       "    <tr>\n",
       "      <th>606</th>\n",
       "      <td>2007</td>\n",
       "      <td>Newfoundland and Labrador</td>\n",
       "      <td>actual_incidents</td>\n",
       "      <td>3</td>\n",
       "      <td>1</td>\n",
       "      <td>401</td>\n",
       "      <td>3455</td>\n",
       "      <td>172</td>\n",
       "      <td>1663</td>\n",
       "    </tr>\n",
       "    <tr>\n",
       "      <th>607</th>\n",
       "      <td>2008</td>\n",
       "      <td>Newfoundland and Labrador</td>\n",
       "      <td>actual_incidents</td>\n",
       "      <td>5</td>\n",
       "      <td>2</td>\n",
       "      <td>416</td>\n",
       "      <td>3415</td>\n",
       "      <td>197</td>\n",
       "      <td>1768</td>\n",
       "    </tr>\n",
       "    <tr>\n",
       "      <th>608</th>\n",
       "      <td>2009</td>\n",
       "      <td>Newfoundland and Labrador</td>\n",
       "      <td>actual_incidents</td>\n",
       "      <td>1</td>\n",
       "      <td>0</td>\n",
       "      <td>353</td>\n",
       "      <td>3520</td>\n",
       "      <td>229</td>\n",
       "      <td>1825</td>\n",
       "    </tr>\n",
       "    <tr>\n",
       "      <th>609</th>\n",
       "      <td>2010</td>\n",
       "      <td>Newfoundland and Labrador</td>\n",
       "      <td>actual_incidents</td>\n",
       "      <td>4</td>\n",
       "      <td>2</td>\n",
       "      <td>367</td>\n",
       "      <td>3406</td>\n",
       "      <td>223</td>\n",
       "      <td>1919</td>\n",
       "    </tr>\n",
       "    <tr>\n",
       "      <th>...</th>\n",
       "      <td>...</td>\n",
       "      <td>...</td>\n",
       "      <td>...</td>\n",
       "      <td>...</td>\n",
       "      <td>...</td>\n",
       "      <td>...</td>\n",
       "      <td>...</td>\n",
       "      <td>...</td>\n",
       "      <td>...</td>\n",
       "    </tr>\n",
       "    <tr>\n",
       "      <th>2000</th>\n",
       "      <td>2020</td>\n",
       "      <td>Saskatchewan</td>\n",
       "      <td>actual_incidents</td>\n",
       "      <td>60</td>\n",
       "      <td>46</td>\n",
       "      <td>1296</td>\n",
       "      <td>11108</td>\n",
       "      <td>835</td>\n",
       "      <td>4078</td>\n",
       "    </tr>\n",
       "    <tr>\n",
       "      <th>2005</th>\n",
       "      <td>2020</td>\n",
       "      <td>Alberta</td>\n",
       "      <td>actual_incidents</td>\n",
       "      <td>139</td>\n",
       "      <td>56</td>\n",
       "      <td>3420</td>\n",
       "      <td>23034</td>\n",
       "      <td>2350</td>\n",
       "      <td>9559</td>\n",
       "    </tr>\n",
       "    <tr>\n",
       "      <th>2010</th>\n",
       "      <td>2020</td>\n",
       "      <td>British Columbia</td>\n",
       "      <td>actual_incidents</td>\n",
       "      <td>98</td>\n",
       "      <td>102</td>\n",
       "      <td>3771</td>\n",
       "      <td>27352</td>\n",
       "      <td>2107</td>\n",
       "      <td>16362</td>\n",
       "    </tr>\n",
       "    <tr>\n",
       "      <th>2015</th>\n",
       "      <td>2020</td>\n",
       "      <td>Yukon</td>\n",
       "      <td>actual_incidents</td>\n",
       "      <td>0</td>\n",
       "      <td>3</td>\n",
       "      <td>116</td>\n",
       "      <td>1028</td>\n",
       "      <td>72</td>\n",
       "      <td>379</td>\n",
       "    </tr>\n",
       "    <tr>\n",
       "      <th>2020</th>\n",
       "      <td>2020</td>\n",
       "      <td>Northwest Territories</td>\n",
       "      <td>actual_incidents</td>\n",
       "      <td>6</td>\n",
       "      <td>1</td>\n",
       "      <td>244</td>\n",
       "      <td>2800</td>\n",
       "      <td>101</td>\n",
       "      <td>907</td>\n",
       "    </tr>\n",
       "  </tbody>\n",
       "</table>\n",
       "<p>165 rows × 9 columns</p>\n",
       "</div>"
      ],
      "text/plain": [
       "      Year                  Geography         Data.Type  Homicide  \\\n",
       "605   2006  Newfoundland and Labrador  actual_incidents         7   \n",
       "606   2007  Newfoundland and Labrador  actual_incidents         3   \n",
       "607   2008  Newfoundland and Labrador  actual_incidents         5   \n",
       "608   2009  Newfoundland and Labrador  actual_incidents         1   \n",
       "609   2010  Newfoundland and Labrador  actual_incidents         4   \n",
       "...    ...                        ...               ...       ...   \n",
       "2000  2020               Saskatchewan  actual_incidents        60   \n",
       "2005  2020                    Alberta  actual_incidents       139   \n",
       "2010  2020           British Columbia  actual_incidents        98   \n",
       "2015  2020                      Yukon  actual_incidents         0   \n",
       "2020  2020      Northwest Territories  actual_incidents         6   \n",
       "\n",
       "      Attempted.Murder  Sexual.Assault..Level.1  Assault..Level.1  \\\n",
       "605                  5                      336              3097   \n",
       "606                  1                      401              3455   \n",
       "607                  2                      416              3415   \n",
       "608                  0                      353              3520   \n",
       "609                  2                      367              3406   \n",
       "...                ...                      ...               ...   \n",
       "2000                46                     1296             11108   \n",
       "2005                56                     3420             23034   \n",
       "2010               102                     3771             27352   \n",
       "2015                 3                      116              1028   \n",
       "2020                 1                      244              2800   \n",
       "\n",
       "      Criminal.Harassment  Uttering.Threats  \n",
       "605                   155              1585  \n",
       "606                   172              1663  \n",
       "607                   197              1768  \n",
       "608                   229              1825  \n",
       "609                   223              1919  \n",
       "...                   ...               ...  \n",
       "2000                  835              4078  \n",
       "2005                 2350              9559  \n",
       "2010                 2107             16362  \n",
       "2015                   72               379  \n",
       "2020                  101               907  \n",
       "\n",
       "[165 rows x 9 columns]"
      ]
     },
     "execution_count": 6,
     "metadata": {},
     "output_type": "execute_result"
    }
   ],
   "source": [
    "#create subset for provinces in Canada and display acta incidents data only\n",
    "\n",
    "provinces = ['Newfoundland and Labrador', 'Nova Scotia', 'New Brunswick', 'Quebec', 'Ontario', 'Manitoba',\n",
    "            'Saskatchewan', 'Alberta', 'British Columbia', 'Yukon', 'Northwest Territories', 'Yukon']  \n",
    "\n",
    "subset_provinces = data[data['Geography'].isin(provinces)  & (data['Data.Type'].isin(['actual_incidents']))]\n",
    "subset_provinces"
   ]
  },
  {
   "cell_type": "code",
   "execution_count": 28,
   "id": "d2b71b13-7aaa-4a70-950b-247de6896c50",
   "metadata": {},
   "outputs": [
    {
     "data": {
      "image/png": "[encoded data removed]",
      "text/plain": [
       "<Figure size 900x600 with 1 Axes>"
      ]
     },
     "metadata": {
      "needs_background": "light"
     },
     "output_type": "display_data"
    }
   ],
   "source": [
    "# plot homicide trend in bar chart\n",
    "plt.figure(figsize= (6,4), dpi = 150)\n",
    "subset_provinces.groupby('Year')['Homicide'].sum().plot(kind='bar', color= 'lightgreen')\n",
    "\n",
    "\n",
    "# Add labels and title\n",
    "plt.xlabel('Year')\n",
    "plt.ylabel('Number of Homicide')\n",
    "plt.title('Homicide Trend in Canada')\n",
    "\n",
    "# Save the plot to an image file\n",
    "plt.savefig('ISP_Figures/Homicide_Bar_plot.png')"
   ]
  },
  {
   "cell_type": "code",
   "execution_count": null,
   "id": "7b91d290-f474-46b5-b0b5-b2ac63e316be",
   "metadata": {},
   "outputs": [],
   "source": []
  },
  {
   "cell_type": "code",
   "execution_count": 8,
   "id": "5d710874-6570-4fe0-ba0e-cede0e185429",
   "metadata": {},
   "outputs": [
    {
     "name": "stdout",
     "output_type": "stream",
     "text": [
      "      Attempted.Murder  Sexual.Assault..Level.1  Assault..Level.1  \\\n",
      "605                  5                      336              3097   \n",
      "606                  1                      401              3455   \n",
      "607                  2                      416              3415   \n",
      "608                  0                      353              3520   \n",
      "609                  2                      367              3406   \n",
      "...                ...                      ...               ...   \n",
      "2000                46                     1296             11108   \n",
      "2005                56                     3420             23034   \n",
      "2010               102                     3771             27352   \n",
      "2015                 3                      116              1028   \n",
      "2020                 1                      244              2800   \n",
      "\n",
      "      Criminal.Harassment  Uttering.Threats                  Geography  \n",
      "605                   155              1585  Newfoundland and Labrador  \n",
      "606                   172              1663  Newfoundland and Labrador  \n",
      "607                   197              1768  Newfoundland and Labrador  \n",
      "608                   229              1825  Newfoundland and Labrador  \n",
      "609                   223              1919  Newfoundland and Labrador  \n",
      "...                   ...               ...                        ...  \n",
      "2000                  835              4078               Saskatchewan  \n",
      "2005                 2350              9559                    Alberta  \n",
      "2010                 2107             16362           British Columbia  \n",
      "2015                   72               379                      Yukon  \n",
      "2020                  101               907      Northwest Territories  \n",
      "\n",
      "[165 rows x 6 columns]\n"
     ]
    }
   ],
   "source": [
    "#set the features and targets\n",
    "\n",
    "features = ['Attempted.Murder', 'Sexual.Assault..Level.1', 'Assault..Level.1', 'Criminal.Harassment', 'Uttering.Threats', 'Geography']\n",
    "X1 = subset_provinces[features]\n",
    "\n",
    "y = subset_provinces.Homicide\n",
    "print(X1)"
   ]
  },
  {
   "cell_type": "code",
   "execution_count": 9,
   "id": "8f2a692e-c757-43fa-b9c2-be238e3ad552",
   "metadata": {},
   "outputs": [
    {
     "data": {
      "image/png": "[encoded data removed]",
      "text/plain": [
       "<Figure size 1080x360 with 5 Axes>"
      ]
     },
     "metadata": {
      "needs_background": "light"
     },
     "output_type": "display_data"
    }
   ],
   "source": [
    "\n",
    "import seaborn as sns\n",
    "# Define the number of rows and columns you want\n",
    "n_rows=2\n",
    "n_cols=3\n",
    " \n",
    "# Create the subplots\n",
    "fig, axes = plt.subplots(nrows=n_rows, ncols=n_cols)\n",
    "fig.set_size_inches(15, 5)\n",
    "for i, column in enumerate(features):\n",
    "    sns.histplot(subset_provinces[column], ax=axes[i//n_cols, i % n_cols], kde=True)\n",
    "plt.tight_layout()\n",
    "# Removing empty subplot\n",
    "fig.delaxes(axes[1,2])"
   ]
  },
  {
   "cell_type": "code",
   "execution_count": 12,
   "id": "b5e1d62c-0819-43e7-aa1b-9d85467f1f78",
   "metadata": {},
   "outputs": [],
   "source": [
    "from sklearn.preprocessing import MultiLabelBinarizer\n",
    "\n",
    "mlb = MultiLabelBinarizer()\n",
    "encoded = mlb.fit_transform(X1['Geography'])\n",
    "encoded_X = pd.DataFrame(encoded, columns=mlb.classes_, index=X1['Geography'].index)\n",
    "\n",
    "# Drop old column and merge new encoded columns\n",
    "X2 = X1.drop('Geography', axis=1)\n",
    "X = pd.concat([X2, encoded_X], axis=1, sort=False)\n"
   ]
  },
  {
   "cell_type": "code",
   "execution_count": 31,
   "id": "20073ee8-f566-44e4-a8cb-1990de7c7a05",
   "metadata": {},
   "outputs": [
    {
     "name": "stdout",
     "output_type": "stream",
     "text": [
      "         A  B  C  L  M  N  O  Q  S  ...  l  m  n  o  r  s  t  u  v  w\n",
      "605   1  0  0  0  1  0  1  0  0  0  ...  1  0  1  1  1  0  0  1  0  1\n",
      "606   1  0  0  0  1  0  1  0  0  0  ...  1  0  1  1  1  0  0  1  0  1\n",
      "607   1  0  0  0  1  0  1  0  0  0  ...  1  0  1  1  1  0  0  1  0  1\n",
      "608   1  0  0  0  1  0  1  0  0  0  ...  1  0  1  1  1  0  0  1  0  1\n",
      "609   1  0  0  0  1  0  1  0  0  0  ...  1  0  1  1  1  0  0  1  0  1\n",
      "...  .. .. .. .. .. .. .. .. .. ..  ... .. .. .. .. .. .. .. .. .. ..\n",
      "2000  0  0  0  0  0  0  0  0  0  1  ...  0  0  1  0  0  1  1  0  0  1\n",
      "2005  0  1  0  0  0  0  0  0  0  0  ...  1  0  0  0  1  0  1  0  0  0\n",
      "2010  1  0  1  1  0  0  0  0  0  0  ...  1  1  0  1  1  1  1  1  0  0\n",
      "2015  0  0  0  0  0  0  0  0  0  0  ...  0  0  1  1  0  0  0  1  0  0\n",
      "2020  1  0  0  0  0  0  1  0  0  0  ...  0  0  0  1  1  1  1  0  0  1\n",
      "\n",
      "[165 rows x 31 columns]\n"
     ]
    }
   ],
   "source": [
    "print(encoded_X)"
   ]
  },
  {
   "cell_type": "code",
   "execution_count": 13,
   "id": "b0d656b5-9fd2-47c1-9308-df292c0738ba",
   "metadata": {},
   "outputs": [],
   "source": [
    "# split for training and testing\n",
    "from sklearn.model_selection import train_test_split\n",
    "\n",
    "X_train,X_test,y_train,y_test = train_test_split(X,y,test_size=0.2,random_state=42)"
   ]
  },
  {
   "cell_type": "code",
   "execution_count": 35,
   "id": "c58007fa-41a9-4aad-aa1b-f589f1ac7a9c",
   "metadata": {},
   "outputs": [],
   "source": [
    "# numeric_features = X.iloc[:,:-2].columns\n",
    "\n",
    "# category_features = X.iloc[:,-1:].columns\n",
    "\n",
    "# X_train = pd.get_dummies(X,columns=['Geography'])\n",
    "# # y_train = pd.get_dummies(y,columns=['Geography'])\n",
    "# print(X_train)\n",
    "# # pd.get_dummies(X,columns=['Geography']).head()\n",
    "# # print(X.head())"
   ]
  },
  {
   "cell_type": "code",
   "execution_count": 13,
   "id": "a15b658a-07c8-4c30-a23f-8524b7cabd20",
   "metadata": {},
   "outputs": [],
   "source": [
    "# from sklearn.pipeline import Pipeline\n",
    "# from sklearn.impute import SimpleImputer\n",
    "# from sklearn.preprocessing import StandardScaler, OneHotEncoder\n",
    "# from sklearn.compose import ColumnTransformer\n",
    "\n",
    "# numeric_transformer = Pipeline(steps=[\n",
    "#     ('imputer', SimpleImputer(strategy='mean')),\n",
    "#     ('scaler', StandardScaler())])\n",
    "\n",
    "\n",
    "# categorical_transformer = Pipeline(steps=[\n",
    "#     ('imputer', SimpleImputer(strategy='most_frequent')),\n",
    "#     ('onehot', OneHotEncoder(handle_unknown ='ignore'))\n",
    "# ])\n",
    "\n",
    "# preprocessor = ColumnTransformer(\n",
    "#     transformers=[\n",
    "#         ('num',numeric_transformer,numeric_features),\n",
    "#         ('cat', categorical_transformer, category_features)\n",
    "#     ])\n",
    "    "
   ]
  },
  {
   "cell_type": "code",
   "execution_count": 14,
   "id": "e18edd4a-79ac-405a-abee-7bab5b3c9a3b",
   "metadata": {},
   "outputs": [],
   "source": [
    "# define random forest regressor model\n",
    "from sklearn.ensemble import RandomForestRegressor\n",
    "\n",
    "number_of_trees = 100 # set the number of trees in the forest\n",
    "model = RandomForestRegressor(n_estimators = number_of_trees, random_state = 42)"
   ]
  },
  {
   "cell_type": "code",
   "execution_count": 15,
   "id": "3bee6ebf-8b92-4f7e-9fcb-0f9b5bcb5545",
   "metadata": {},
   "outputs": [],
   "source": [
    "# complete_model = Pipeline(steps=[('preprocessor',preprocessor),\n",
    "#                           ('regressor', model)])                               "
   ]
  },
  {
   "cell_type": "code",
   "execution_count": 15,
   "id": "65975171-998d-4d0c-817d-2546ee88d968",
   "metadata": {},
   "outputs": [
    {
     "data": {
      "text/plain": [
       "RandomForestRegressor(random_state=42)"
      ]
     },
     "execution_count": 15,
     "metadata": {},
     "output_type": "execute_result"
    }
   ],
   "source": [
    "model.fit(X_train,y_train)\n",
    "\n",
    "\n",
    "#complete_model.fit(X_train,y_train)\n",
    "# print(y_train)\n"
   ]
  },
  {
   "cell_type": "code",
   "execution_count": 17,
   "id": "de086ca7-0f06-4dd8-8037-13a4acb0b16a",
   "metadata": {},
   "outputs": [
    {
     "name": "stdout",
     "output_type": "stream",
     "text": [
      "Root mean square is: 13.880044974165195\n",
      "\n",
      "R2 score is: 0.925258848013999\n"
     ]
    }
   ],
   "source": [
    "from sklearn.metrics import mean_squared_error, r2_score\n",
    "\n",
    "# predict test data\n",
    "\n",
    "y_pred = model.predict(X_test)\n",
    "\n",
    "#calculate the ean squared error\n",
    "pred_rmse = np.sqrt(mean_squared_error(y_test, y_pred))\n",
    "\n",
    "# calculate R^2                 \n",
    "pred_r2 = r2_score(y_test, y_pred)\n",
    "\n",
    "# print performance metrics                 \n",
    "print(\"Root mean square is:\", pred_rmse)\n",
    "print(\"\\nR2 score is:\", pred_r2)\n",
    "\n",
    "# X_test = pd.get_dummies(X,columns=['Geography'])\n",
    "# y_test = pd.get_dummies(X,columns=['Geography'])"
   ]
  },
  {
   "cell_type": "code",
   "execution_count": 18,
   "id": "ead64f0b-3e02-4361-824f-e1f8cc3b8ea2",
   "metadata": {},
   "outputs": [
    {
     "name": "stdout",
     "output_type": "stream",
     "text": [
      "0.24206182277577032\n"
     ]
    }
   ],
   "source": [
    "# calculate error percent\n",
    "print(pred_rmse/np.mean(y_train))"
   ]
  },
  {
   "cell_type": "code",
   "execution_count": 29,
   "id": "87abba88-ca6e-4113-887a-0c35ede62b68",
   "metadata": {},
   "outputs": [
    {
     "data": {
      "image/png": "[encoded data removed]",
      "text/plain": [
       "<Figure size 900x600 with 1 Axes>"
      ]
     },
     "metadata": {
      "needs_background": "light"
     },
     "output_type": "display_data"
    }
   ],
   "source": [
    "# show how the model fits the test data\n",
    "\n",
    "plt.figure(dpi=150)\n",
    "plt.scatter(y_test, y_pred, alpha = 0.5)\n",
    "plt.plot([min(y_train), max(y_train)], [min(y_train), max(y_train)], '--', color = 'blue')\n",
    "plt.title(\"Actual Homicide vs predicted Homicide\")\n",
    "plt.xlabel('Actual Homicide')\n",
    "plt.ylabel('Predicted Homicide')\n",
    "plt.show()"
   ]
  },
  {
   "cell_type": "code",
   "execution_count": 20,
   "id": "984d8efb-5e04-4566-b67f-1f336b9dae22",
   "metadata": {},
   "outputs": [
    {
     "name": "stdout",
     "output_type": "stream",
     "text": [
      "(33, 36)\n"
     ]
    }
   ],
   "source": [
    "print(X_test.shape)"
   ]
  },
  {
   "cell_type": "code",
   "execution_count": 21,
   "id": "c9f66437-c095-4778-bd39-b3a2ac1e7ca0",
   "metadata": {},
   "outputs": [
    {
     "name": "stdout",
     "output_type": "stream",
     "text": [
      "(33,)\n"
     ]
    }
   ],
   "source": [
    "print(y_pred.shape)"
   ]
  },
  {
   "cell_type": "code",
   "execution_count": 22,
   "id": "6606dcc4-548b-4c9a-90fe-8ba64cff4298",
   "metadata": {},
   "outputs": [
    {
     "name": "stdout",
     "output_type": "stream",
     "text": [
      "(132,)\n"
     ]
    }
   ],
   "source": [
    "print(y_train.shape)"
   ]
  },
  {
   "cell_type": "code",
   "execution_count": 23,
   "id": "28f10744-5a7e-4c2a-b4f0-f6efa7b7d445",
   "metadata": {},
   "outputs": [
    {
     "name": "stdout",
     "output_type": "stream",
     "text": [
      "[ 83  42   2  30   3  92 234  52  11  15   8   1  17  95   6  88   2  44\n",
      "   2  13 118   7  15  16  84  14   3  30  13 139  81  71  29]\n"
     ]
    }
   ],
   "source": [
    "print(np.array(y_test))"
   ]
  },
  {
   "cell_type": "code",
   "execution_count": 24,
   "id": "bb1d889e-974d-43f1-90d5-b3b9a955d992",
   "metadata": {},
   "outputs": [
    {
     "name": "stdout",
     "output_type": "stream",
     "text": [
      "[ 89.4   49.4    3.63  44.67   4.03  96.52 196.68  51.94   8.08  13.74\n",
      "   7.98   2.8   14.46  98.65   8.98  92.94   3.49  31.94   5.28  14.83\n",
      "  97.15   9.83  16.13  20.87  91.33  10.73   2.42  39.83   9.39  88.3\n",
      " 112.68  84.19  32.37]\n"
     ]
    }
   ],
   "source": [
    "print(y_pred)"
   ]
  },
  {
   "cell_type": "code",
   "execution_count": 25,
   "id": "04ed8e3c-fdd1-4bef-9445-093724c6ee2c",
   "metadata": {},
   "outputs": [
    {
     "name": "stdout",
     "output_type": "stream",
     "text": [
      "      Attempted.Murder  Sexual.Assault..Level.1  Assault..Level.1  \\\n",
      "605                  5                      336              3097   \n",
      "606                  1                      401              3455   \n",
      "607                  2                      416              3415   \n",
      "608                  0                      353              3520   \n",
      "609                  2                      367              3406   \n",
      "...                ...                      ...               ...   \n",
      "2000                46                     1296             11108   \n",
      "2005                56                     3420             23034   \n",
      "2010               102                     3771             27352   \n",
      "2015                 3                      116              1028   \n",
      "2020                 1                      244              2800   \n",
      "\n",
      "      Criminal.Harassment  Uttering.Threats     A  B  C  L  ...  l  m  n  o  \\\n",
      "605                   155              1585  1  0  0  0  1  ...  1  0  1  1   \n",
      "606                   172              1663  1  0  0  0  1  ...  1  0  1  1   \n",
      "607                   197              1768  1  0  0  0  1  ...  1  0  1  1   \n",
      "608                   229              1825  1  0  0  0  1  ...  1  0  1  1   \n",
      "609                   223              1919  1  0  0  0  1  ...  1  0  1  1   \n",
      "...                   ...               ... .. .. .. .. ..  ... .. .. .. ..   \n",
      "2000                  835              4078  0  0  0  0  0  ...  0  0  1  0   \n",
      "2005                 2350              9559  0  1  0  0  0  ...  1  0  0  0   \n",
      "2010                 2107             16362  1  0  1  1  0  ...  1  1  0  1   \n",
      "2015                   72               379  0  0  0  0  0  ...  0  0  1  1   \n",
      "2020                  101               907  1  0  0  0  0  ...  0  0  0  1   \n",
      "\n",
      "      r  s  t  u  v  w  \n",
      "605   1  0  0  1  0  1  \n",
      "606   1  0  0  1  0  1  \n",
      "607   1  0  0  1  0  1  \n",
      "608   1  0  0  1  0  1  \n",
      "609   1  0  0  1  0  1  \n",
      "...  .. .. .. .. .. ..  \n",
      "2000  0  1  1  0  0  1  \n",
      "2005  1  0  1  0  0  0  \n",
      "2010  1  1  1  1  0  0  \n",
      "2015  0  0  0  1  0  0  \n",
      "2020  1  1  1  0  0  1  \n",
      "\n",
      "[165 rows x 36 columns]\n"
     ]
    }
   ],
   "source": [
    "print(X)"
   ]
  },
  {
   "cell_type": "code",
   "execution_count": 32,
   "id": "d38eed0c-16aa-4666-85db-805c0c13f12c",
   "metadata": {},
   "outputs": [
    {
     "name": "stdout",
     "output_type": "stream",
     "text": [
      "605       7\n",
      "606       3\n",
      "607       5\n",
      "608       1\n",
      "609       4\n",
      "       ... \n",
      "2000     60\n",
      "2005    139\n",
      "2010     98\n",
      "2015      0\n",
      "2020      6\n",
      "Name: Homicide, Length: 165, dtype: int64\n"
     ]
    }
   ],
   "source": [
    "print(y)"
   ]
  },
  {
   "cell_type": "code",
   "execution_count": null,
   "id": "8ef1c458-76fc-4e46-a8c9-ad803050225b",
   "metadata": {},
   "outputs": [],
   "source": []
  }
 ],
 "metadata": {
  "kernelspec": {
   "display_name": "Python 3 (ipykernel)",
   "language": "python",
   "name": "python3"
  },
  "language_info": {
   "codemirror_mode": {
    "name": "ipython",
    "version": 3
   },
   "file_extension": ".py",
   "mimetype": "text/x-python",
   "name": "python",
   "nbconvert_exporter": "python",
   "pygments_lexer": "ipython3",
   "version": "3.9.7"
  }
 },
 "nbformat": 4,
 "nbformat_minor": 5
}
