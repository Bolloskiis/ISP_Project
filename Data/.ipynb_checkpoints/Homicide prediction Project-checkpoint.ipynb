{
 "cells": [
  {
   "cell_type": "code",
   "execution_count": 142,
   "id": "0fec5c9c-f6fa-4d2a-a683-985814ae7901",
   "metadata": {},
   "outputs": [],
   "source": [
    "# standard external libraries\n",
    "import pandas as pd\n",
    "import numpy as np\n",
    "import matplotlib.pyplot as plt"
   ]
  },
  {
   "cell_type": "markdown",
   "id": "450657be-5bef-4bf9-9f56-c2557b1cd6a4",
   "metadata": {},
   "source": [
    "\n",
    "The dataset is from: https://open.canada.ca/data/en/dataset/ec8d3e9b-c21a-01b2-9787-abb4b55940ea\n",
    "\n",
    "It contains crimes by offence type. The target variable is \"Homicide\"."
   ]
  },
  {
   "cell_type": "code",
   "execution_count": 145,
   "id": "933ba0dc-d69a-426c-ba18-6e76abfa8aab",
   "metadata": {},
   "outputs": [],
   "source": [
    "# load dataset\n",
    "\n",
    "file_location ='database_var.csv'\n",
    "\n",
    "df = pd.read_csv(file_location)"
   ]
  },
  {
   "cell_type": "code",
   "execution_count": 146,
   "id": "440c0d41-c5aa-404f-8aca-f4fecde23f08",
   "metadata": {},
   "outputs": [
    {
     "name": "stdout",
     "output_type": "stream",
     "text": [
      "              Year  Total.Violent.Criminal.Code.Violations     Homicide  \\\n",
      "count  2100.000000                             2100.000000  2100.000000   \n",
      "mean   2013.000000                            15285.523810    29.364762   \n",
      "std       4.321523                            49855.307211    89.091745   \n",
      "min    2006.000000                                0.000000     0.000000   \n",
      "25%    2009.000000                              100.000000     0.000000   \n",
      "50%    2013.000000                              484.500000     0.000000   \n",
      "75%    2017.000000                             5490.750000    10.000000   \n",
      "max    2020.000000                           480004.000000   743.000000   \n",
      "\n",
      "       Murder..First.degree  Murder..Second.degree  Manslaughter  \\\n",
      "count           2100.000000            2100.000000   2100.000000   \n",
      "mean              10.998571              14.642857      3.702381   \n",
      "std               35.508925              43.744440     11.310360   \n",
      "min                0.000000               0.000000      0.000000   \n",
      "25%                0.000000               0.000000      0.000000   \n",
      "50%                0.000000               0.000000      0.000000   \n",
      "75%                4.000000               5.000000      1.000000   \n",
      "max              309.000000             339.000000     94.000000   \n",
      "\n",
      "       Total.other.violations.causing.death  Attempted.Murder  \\\n",
      "count                           2100.000000       2100.000000   \n",
      "mean                               4.997619         34.842381   \n",
      "std                               15.754503        108.465482   \n",
      "min                                0.000000          0.000000   \n",
      "25%                                0.000000          0.000000   \n",
      "50%                                0.000000          0.000000   \n",
      "75%                                2.000000         13.000000   \n",
      "max                              160.000000        865.000000   \n",
      "\n",
      "       Sexual.Assault..Level.3..Aggravated  \\\n",
      "count                          2100.000000   \n",
      "mean                              5.935714   \n",
      "std                              18.775451   \n",
      "min                               0.000000   \n",
      "25%                               0.000000   \n",
      "50%                               0.000000   \n",
      "75%                               2.000000   \n",
      "max                             181.000000   \n",
      "\n",
      "       Sexual.Assault..Level.2..with.a.Weapon.or.Bodily.Harm  ...  \\\n",
      "count                                        2100.000000      ...   \n",
      "mean                                           16.839524      ...   \n",
      "std                                            54.376342      ...   \n",
      "min                                             0.000000      ...   \n",
      "25%                                             0.000000      ...   \n",
      "50%                                             0.000000      ...   \n",
      "75%                                             6.000000      ...   \n",
      "max                                           608.000000      ...   \n",
      "\n",
      "       Income.Tax.Act  Canada.Shipping.Act  Canada.Health.Act  Customs.Act  \\\n",
      "count     2100.000000          2100.000000        2100.000000  2100.000000   \n",
      "mean         0.983333           132.763333           0.649524    69.007143   \n",
      "std          4.671200           511.644005           5.751982   680.709404   \n",
      "min          0.000000             0.000000           0.000000     0.000000   \n",
      "25%          0.000000             0.000000           0.000000     0.000000   \n",
      "50%          0.000000             0.000000           0.000000     0.000000   \n",
      "75%          0.000000             4.000000           0.000000     1.000000   \n",
      "max         85.000000          4367.000000         126.000000  9716.000000   \n",
      "\n",
      "       Competition.Act   Excise.Act  Immigration...Refugee.Protection.Act  \\\n",
      "count      2100.000000  2100.000000                           2100.000000   \n",
      "mean          0.054762    29.242381                             26.648571   \n",
      "std           0.541161   127.799315                            119.236759   \n",
      "min           0.000000     0.000000                              0.000000   \n",
      "25%           0.000000     0.000000                              0.000000   \n",
      "50%           0.000000     1.000000                              0.000000   \n",
      "75%           0.000000     5.000000                              1.000000   \n",
      "max          12.000000  2158.000000                           1416.000000   \n",
      "\n",
      "       Firearms.Act  National.Defense.Act  Other.Federal.Statutes  \n",
      "count   2100.000000           2100.000000             2100.000000  \n",
      "mean      27.765238              0.071429              330.065238  \n",
      "std      135.821860              0.564676             1216.995316  \n",
      "min        0.000000              0.000000                0.000000  \n",
      "25%        0.000000              0.000000                0.000000  \n",
      "50%        0.000000              0.000000                3.000000  \n",
      "75%        4.000000              0.000000               85.250000  \n",
      "max     1879.000000             10.000000            15093.000000  \n",
      "\n",
      "[8 rows x 111 columns]\n",
      "<class 'pandas.core.frame.DataFrame'>\n",
      "RangeIndex: 2100 entries, 0 to 2099\n",
      "Columns: 115 entries, Year to Other.Federal.Statutes\n",
      "dtypes: float64(5), int64(106), object(4)\n",
      "memory usage: 1.8+ MB\n"
     ]
    }
   ],
   "source": [
    "print(df.describe())\n",
    "\n",
    "df.info()"
   ]
  },
  {
   "cell_type": "code",
   "execution_count": 147,
   "id": "08fcc588-82ff-404d-8654-bbf86d84a3b7",
   "metadata": {},
   "outputs": [
    {
     "data": {
      "text/html": [
       "<div>\n",
       "<style scoped>\n",
       "    .dataframe tbody tr th:only-of-type {\n",
       "        vertical-align: middle;\n",
       "    }\n",
       "\n",
       "    .dataframe tbody tr th {\n",
       "        vertical-align: top;\n",
       "    }\n",
       "\n",
       "    .dataframe thead th {\n",
       "        text-align: right;\n",
       "    }\n",
       "</style>\n",
       "<table border=\"1\" class=\"dataframe\">\n",
       "  <thead>\n",
       "    <tr style=\"text-align: right;\">\n",
       "      <th></th>\n",
       "      <th>Year</th>\n",
       "      <th>Geography</th>\n",
       "      <th>Data.Type</th>\n",
       "      <th>Homicide</th>\n",
       "      <th>Attempted.Murder</th>\n",
       "      <th>Sexual.Assault..Level.1</th>\n",
       "      <th>Assault..Level.1</th>\n",
       "      <th>Criminal.Harassment</th>\n",
       "      <th>Uttering.Threats</th>\n",
       "    </tr>\n",
       "  </thead>\n",
       "  <tbody>\n",
       "    <tr>\n",
       "      <th>0</th>\n",
       "      <td>2006</td>\n",
       "      <td>Labrador West, R.N.C.</td>\n",
       "      <td>actual_incidents</td>\n",
       "      <td>0</td>\n",
       "      <td>0</td>\n",
       "      <td>7</td>\n",
       "      <td>58</td>\n",
       "      <td>0</td>\n",
       "      <td>31</td>\n",
       "    </tr>\n",
       "    <tr>\n",
       "      <th>1</th>\n",
       "      <td>2006</td>\n",
       "      <td>Corner Brook, R.N.C.</td>\n",
       "      <td>actual_incidents</td>\n",
       "      <td>1</td>\n",
       "      <td>0</td>\n",
       "      <td>10</td>\n",
       "      <td>108</td>\n",
       "      <td>5</td>\n",
       "      <td>55</td>\n",
       "    </tr>\n",
       "    <tr>\n",
       "      <th>2</th>\n",
       "      <td>2006</td>\n",
       "      <td>Northeast Avalon R.N.C</td>\n",
       "      <td>actual_incidents</td>\n",
       "      <td>1</td>\n",
       "      <td>1</td>\n",
       "      <td>107</td>\n",
       "      <td>912</td>\n",
       "      <td>65</td>\n",
       "      <td>596</td>\n",
       "    </tr>\n",
       "    <tr>\n",
       "      <th>3</th>\n",
       "      <td>2006</td>\n",
       "      <td>Labrador District, RCMP</td>\n",
       "      <td>actual_incidents</td>\n",
       "      <td>1</td>\n",
       "      <td>1</td>\n",
       "      <td>73</td>\n",
       "      <td>735</td>\n",
       "      <td>12</td>\n",
       "      <td>145</td>\n",
       "    </tr>\n",
       "    <tr>\n",
       "      <th>4</th>\n",
       "      <td>2006</td>\n",
       "      <td>Northern Peninsula District, RCMP</td>\n",
       "      <td>actual_incidents</td>\n",
       "      <td>0</td>\n",
       "      <td>0</td>\n",
       "      <td>9</td>\n",
       "      <td>43</td>\n",
       "      <td>2</td>\n",
       "      <td>20</td>\n",
       "    </tr>\n",
       "    <tr>\n",
       "      <th>...</th>\n",
       "      <td>...</td>\n",
       "      <td>...</td>\n",
       "      <td>...</td>\n",
       "      <td>...</td>\n",
       "      <td>...</td>\n",
       "      <td>...</td>\n",
       "      <td>...</td>\n",
       "      <td>...</td>\n",
       "      <td>...</td>\n",
       "    </tr>\n",
       "    <tr>\n",
       "      <th>2095</th>\n",
       "      <td>2020</td>\n",
       "      <td>Burin Peninsula District, RCMP</td>\n",
       "      <td>actual_incidents</td>\n",
       "      <td>0</td>\n",
       "      <td>1</td>\n",
       "      <td>5</td>\n",
       "      <td>109</td>\n",
       "      <td>1</td>\n",
       "      <td>76</td>\n",
       "    </tr>\n",
       "    <tr>\n",
       "      <th>2096</th>\n",
       "      <td>2020</td>\n",
       "      <td>Burin Peninsula District, RCMP</td>\n",
       "      <td>total_cleared</td>\n",
       "      <td>0</td>\n",
       "      <td>1</td>\n",
       "      <td>2</td>\n",
       "      <td>65</td>\n",
       "      <td>0</td>\n",
       "      <td>38</td>\n",
       "    </tr>\n",
       "    <tr>\n",
       "      <th>2097</th>\n",
       "      <td>2020</td>\n",
       "      <td>Burin Peninsula District, RCMP</td>\n",
       "      <td>tot_persons_charged</td>\n",
       "      <td>0</td>\n",
       "      <td>1</td>\n",
       "      <td>2</td>\n",
       "      <td>34</td>\n",
       "      <td>0</td>\n",
       "      <td>13</td>\n",
       "    </tr>\n",
       "    <tr>\n",
       "      <th>2098</th>\n",
       "      <td>2020</td>\n",
       "      <td>Burin Peninsula District, RCMP</td>\n",
       "      <td>tot_adults_charged</td>\n",
       "      <td>0</td>\n",
       "      <td>1</td>\n",
       "      <td>2</td>\n",
       "      <td>27</td>\n",
       "      <td>0</td>\n",
       "      <td>12</td>\n",
       "    </tr>\n",
       "    <tr>\n",
       "      <th>2099</th>\n",
       "      <td>2020</td>\n",
       "      <td>Burin Peninsula District, RCMP</td>\n",
       "      <td>tot_youth_charged</td>\n",
       "      <td>0</td>\n",
       "      <td>0</td>\n",
       "      <td>0</td>\n",
       "      <td>7</td>\n",
       "      <td>0</td>\n",
       "      <td>1</td>\n",
       "    </tr>\n",
       "  </tbody>\n",
       "</table>\n",
       "<p>2100 rows × 9 columns</p>\n",
       "</div>"
      ],
      "text/plain": [
       "      Year                          Geography            Data.Type  Homicide  \\\n",
       "0     2006              Labrador West, R.N.C.     actual_incidents         0   \n",
       "1     2006               Corner Brook, R.N.C.     actual_incidents         1   \n",
       "2     2006             Northeast Avalon R.N.C     actual_incidents         1   \n",
       "3     2006            Labrador District, RCMP     actual_incidents         1   \n",
       "4     2006  Northern Peninsula District, RCMP     actual_incidents         0   \n",
       "...    ...                                ...                  ...       ...   \n",
       "2095  2020     Burin Peninsula District, RCMP     actual_incidents         0   \n",
       "2096  2020     Burin Peninsula District, RCMP        total_cleared         0   \n",
       "2097  2020     Burin Peninsula District, RCMP  tot_persons_charged         0   \n",
       "2098  2020     Burin Peninsula District, RCMP   tot_adults_charged         0   \n",
       "2099  2020     Burin Peninsula District, RCMP    tot_youth_charged         0   \n",
       "\n",
       "      Attempted.Murder  Sexual.Assault..Level.1  Assault..Level.1  \\\n",
       "0                    0                        7                58   \n",
       "1                    0                       10               108   \n",
       "2                    1                      107               912   \n",
       "3                    1                       73               735   \n",
       "4                    0                        9                43   \n",
       "...                ...                      ...               ...   \n",
       "2095                 1                        5               109   \n",
       "2096                 1                        2                65   \n",
       "2097                 1                        2                34   \n",
       "2098                 1                        2                27   \n",
       "2099                 0                        0                 7   \n",
       "\n",
       "      Criminal.Harassment  Uttering.Threats  \n",
       "0                       0                31  \n",
       "1                       5                55  \n",
       "2                      65               596  \n",
       "3                      12               145  \n",
       "4                       2                20  \n",
       "...                   ...               ...  \n",
       "2095                    1                76  \n",
       "2096                    0                38  \n",
       "2097                    0                13  \n",
       "2098                    0                12  \n",
       "2099                    0                 1  \n",
       "\n",
       "[2100 rows x 9 columns]"
      ]
     },
     "execution_count": 147,
     "metadata": {},
     "output_type": "execute_result"
    }
   ],
   "source": [
    "# keep needed columns\n",
    "data = df[['Year', 'Geography', 'Data.Type', 'Homicide','Attempted.Murder', 'Sexual.Assault..Level.1', 'Assault..Level.1', 'Criminal.Harassment', 'Uttering.Threats']]\n",
    "data"
   ]
  },
  {
   "cell_type": "code",
   "execution_count": 148,
   "id": "a0dcace8-191a-4672-98b9-99270a24a931",
   "metadata": {},
   "outputs": [
    {
     "name": "stdout",
     "output_type": "stream",
     "text": [
      "Year 0\n",
      "Geography 0\n",
      "Data.Type 0\n",
      "Homicide 0\n",
      "Attempted.Murder 0\n",
      "Sexual.Assault..Level.1 0\n",
      "Assault..Level.1 0\n",
      "Criminal.Harassment 0\n",
      "Uttering.Threats 0\n"
     ]
    }
   ],
   "source": [
    "#total count of NaNs\n",
    "\n",
    "for idx,col in enumerate(data.isnull().sum()):\n",
    "    print(data.columns[idx],col)"
   ]
  },
  {
   "cell_type": "code",
   "execution_count": 149,
   "id": "2cf0eb80-b218-4121-a12b-6161770e877e",
   "metadata": {},
   "outputs": [
    {
     "data": {
      "text/html": [
       "<div>\n",
       "<style scoped>\n",
       "    .dataframe tbody tr th:only-of-type {\n",
       "        vertical-align: middle;\n",
       "    }\n",
       "\n",
       "    .dataframe tbody tr th {\n",
       "        vertical-align: top;\n",
       "    }\n",
       "\n",
       "    .dataframe thead th {\n",
       "        text-align: right;\n",
       "    }\n",
       "</style>\n",
       "<table border=\"1\" class=\"dataframe\">\n",
       "  <thead>\n",
       "    <tr style=\"text-align: right;\">\n",
       "      <th></th>\n",
       "      <th>Year</th>\n",
       "      <th>Geography</th>\n",
       "      <th>Data.Type</th>\n",
       "      <th>Homicide</th>\n",
       "      <th>Attempted.Murder</th>\n",
       "      <th>Sexual.Assault..Level.1</th>\n",
       "      <th>Assault..Level.1</th>\n",
       "      <th>Criminal.Harassment</th>\n",
       "      <th>Uttering.Threats</th>\n",
       "    </tr>\n",
       "  </thead>\n",
       "  <tbody>\n",
       "    <tr>\n",
       "      <th>605</th>\n",
       "      <td>2006</td>\n",
       "      <td>Newfoundland and Labrador</td>\n",
       "      <td>actual_incidents</td>\n",
       "      <td>7</td>\n",
       "      <td>5</td>\n",
       "      <td>336</td>\n",
       "      <td>3097</td>\n",
       "      <td>155</td>\n",
       "      <td>1585</td>\n",
       "    </tr>\n",
       "    <tr>\n",
       "      <th>606</th>\n",
       "      <td>2007</td>\n",
       "      <td>Newfoundland and Labrador</td>\n",
       "      <td>actual_incidents</td>\n",
       "      <td>3</td>\n",
       "      <td>1</td>\n",
       "      <td>401</td>\n",
       "      <td>3455</td>\n",
       "      <td>172</td>\n",
       "      <td>1663</td>\n",
       "    </tr>\n",
       "    <tr>\n",
       "      <th>607</th>\n",
       "      <td>2008</td>\n",
       "      <td>Newfoundland and Labrador</td>\n",
       "      <td>actual_incidents</td>\n",
       "      <td>5</td>\n",
       "      <td>2</td>\n",
       "      <td>416</td>\n",
       "      <td>3415</td>\n",
       "      <td>197</td>\n",
       "      <td>1768</td>\n",
       "    </tr>\n",
       "    <tr>\n",
       "      <th>608</th>\n",
       "      <td>2009</td>\n",
       "      <td>Newfoundland and Labrador</td>\n",
       "      <td>actual_incidents</td>\n",
       "      <td>1</td>\n",
       "      <td>0</td>\n",
       "      <td>353</td>\n",
       "      <td>3520</td>\n",
       "      <td>229</td>\n",
       "      <td>1825</td>\n",
       "    </tr>\n",
       "    <tr>\n",
       "      <th>609</th>\n",
       "      <td>2010</td>\n",
       "      <td>Newfoundland and Labrador</td>\n",
       "      <td>actual_incidents</td>\n",
       "      <td>4</td>\n",
       "      <td>2</td>\n",
       "      <td>367</td>\n",
       "      <td>3406</td>\n",
       "      <td>223</td>\n",
       "      <td>1919</td>\n",
       "    </tr>\n",
       "    <tr>\n",
       "      <th>...</th>\n",
       "      <td>...</td>\n",
       "      <td>...</td>\n",
       "      <td>...</td>\n",
       "      <td>...</td>\n",
       "      <td>...</td>\n",
       "      <td>...</td>\n",
       "      <td>...</td>\n",
       "      <td>...</td>\n",
       "      <td>...</td>\n",
       "    </tr>\n",
       "    <tr>\n",
       "      <th>2000</th>\n",
       "      <td>2020</td>\n",
       "      <td>Saskatchewan</td>\n",
       "      <td>actual_incidents</td>\n",
       "      <td>60</td>\n",
       "      <td>46</td>\n",
       "      <td>1296</td>\n",
       "      <td>11108</td>\n",
       "      <td>835</td>\n",
       "      <td>4078</td>\n",
       "    </tr>\n",
       "    <tr>\n",
       "      <th>2005</th>\n",
       "      <td>2020</td>\n",
       "      <td>Alberta</td>\n",
       "      <td>actual_incidents</td>\n",
       "      <td>139</td>\n",
       "      <td>56</td>\n",
       "      <td>3420</td>\n",
       "      <td>23034</td>\n",
       "      <td>2350</td>\n",
       "      <td>9559</td>\n",
       "    </tr>\n",
       "    <tr>\n",
       "      <th>2010</th>\n",
       "      <td>2020</td>\n",
       "      <td>British Columbia</td>\n",
       "      <td>actual_incidents</td>\n",
       "      <td>98</td>\n",
       "      <td>102</td>\n",
       "      <td>3771</td>\n",
       "      <td>27352</td>\n",
       "      <td>2107</td>\n",
       "      <td>16362</td>\n",
       "    </tr>\n",
       "    <tr>\n",
       "      <th>2015</th>\n",
       "      <td>2020</td>\n",
       "      <td>Yukon</td>\n",
       "      <td>actual_incidents</td>\n",
       "      <td>0</td>\n",
       "      <td>3</td>\n",
       "      <td>116</td>\n",
       "      <td>1028</td>\n",
       "      <td>72</td>\n",
       "      <td>379</td>\n",
       "    </tr>\n",
       "    <tr>\n",
       "      <th>2020</th>\n",
       "      <td>2020</td>\n",
       "      <td>Northwest Territories</td>\n",
       "      <td>actual_incidents</td>\n",
       "      <td>6</td>\n",
       "      <td>1</td>\n",
       "      <td>244</td>\n",
       "      <td>2800</td>\n",
       "      <td>101</td>\n",
       "      <td>907</td>\n",
       "    </tr>\n",
       "  </tbody>\n",
       "</table>\n",
       "<p>165 rows × 9 columns</p>\n",
       "</div>"
      ],
      "text/plain": [
       "      Year                  Geography         Data.Type  Homicide  \\\n",
       "605   2006  Newfoundland and Labrador  actual_incidents         7   \n",
       "606   2007  Newfoundland and Labrador  actual_incidents         3   \n",
       "607   2008  Newfoundland and Labrador  actual_incidents         5   \n",
       "608   2009  Newfoundland and Labrador  actual_incidents         1   \n",
       "609   2010  Newfoundland and Labrador  actual_incidents         4   \n",
       "...    ...                        ...               ...       ...   \n",
       "2000  2020               Saskatchewan  actual_incidents        60   \n",
       "2005  2020                    Alberta  actual_incidents       139   \n",
       "2010  2020           British Columbia  actual_incidents        98   \n",
       "2015  2020                      Yukon  actual_incidents         0   \n",
       "2020  2020      Northwest Territories  actual_incidents         6   \n",
       "\n",
       "      Attempted.Murder  Sexual.Assault..Level.1  Assault..Level.1  \\\n",
       "605                  5                      336              3097   \n",
       "606                  1                      401              3455   \n",
       "607                  2                      416              3415   \n",
       "608                  0                      353              3520   \n",
       "609                  2                      367              3406   \n",
       "...                ...                      ...               ...   \n",
       "2000                46                     1296             11108   \n",
       "2005                56                     3420             23034   \n",
       "2010               102                     3771             27352   \n",
       "2015                 3                      116              1028   \n",
       "2020                 1                      244              2800   \n",
       "\n",
       "      Criminal.Harassment  Uttering.Threats  \n",
       "605                   155              1585  \n",
       "606                   172              1663  \n",
       "607                   197              1768  \n",
       "608                   229              1825  \n",
       "609                   223              1919  \n",
       "...                   ...               ...  \n",
       "2000                  835              4078  \n",
       "2005                 2350              9559  \n",
       "2010                 2107             16362  \n",
       "2015                   72               379  \n",
       "2020                  101               907  \n",
       "\n",
       "[165 rows x 9 columns]"
      ]
     },
     "execution_count": 149,
     "metadata": {},
     "output_type": "execute_result"
    }
   ],
   "source": [
    "#create subset for provinces in Canada and display acta incidents data only\n",
    "\n",
    "provinces = ['Newfoundland and Labrador', 'Nova Scotia', 'New Brunswick', 'Quebec', 'Ontario', 'Manitoba',\n",
    "            'Saskatchewan', 'Alberta', 'British Columbia', 'Yukon', 'Northwest Territories', 'Yukon']  \n",
    "\n",
    "subset_provinces = data[data['Geography'].isin(provinces)  & (data['Data.Type'].isin(['actual_incidents']))]\n",
    "subset_provinces"
   ]
  },
  {
   "cell_type": "code",
   "execution_count": 150,
   "id": "d2b71b13-7aaa-4a70-950b-247de6896c50",
   "metadata": {},
   "outputs": [
    {
     "data": {
      "image/png": "[encoded data removed]",
      "text/plain": [
       "<Figure size 900x600 with 1 Axes>"
      ]
     },
     "metadata": {
      "needs_background": "light"
     },
     "output_type": "display_data"
    }
   ],
   "source": [
    "# plot homicide trend in bar chart\n",
    "plt.figure(figsize= (6,4), dpi = 150)\n",
    "subset_provinces.groupby('Year')['Homicide'].sum().plot(kind='bar', color= 'lightgreen')\n",
    "\n",
    "\n",
    "# Add labels and title\n",
    "plt.xlabel('Year')\n",
    "plt.ylabel('Number of Homicide')\n",
    "plt.title('Homicide Trend in Canada')\n",
    "\n",
    "# Save the plot to an image file\n",
    "plt.savefig('ISP_Figures/Homicide_Bar_plot.png')"
   ]
  },
  {
   "cell_type": "code",
   "execution_count": 172,
   "id": "8793e270-84fd-43c1-bbb5-85fdf841b0a7",
   "metadata": {},
   "outputs": [
    {
     "name": "stdout",
     "output_type": "stream",
     "text": [
      "['Newfoundland and Labrador' 'Nova Scotia' 'New Brunswick' 'Quebec'\n",
      " 'Ontario' 'Manitoba' 'Saskatchewan' 'Alberta' 'British Columbia' 'Yukon'\n",
      " 'Northwest Territories']\n"
     ]
    }
   ],
   "source": [
    "z = np.array(subset_provinces.Geography.unique())\n",
    "print(z)"
   ]
  },
  {
   "cell_type": "code",
   "execution_count": 176,
   "id": "44343f24-be53-4eeb-82a9-9d0a5666ac2a",
   "metadata": {},
   "outputs": [
    {
     "ename": "ValueError",
     "evalue": "Item wrong length 11 instead of 165.",
     "output_type": "error",
     "traceback": [
      "\u001b[1;31m---------------------------------------------------------------------------\u001b[0m",
      "\u001b[1;31mValueError\u001b[0m                                Traceback (most recent call last)",
      "\u001b[1;32m~\\AppData\\Local\\Temp/ipykernel_26512/471231445.py\u001b[0m in \u001b[0;36m<module>\u001b[1;34m\u001b[0m\n\u001b[0;32m     10\u001b[0m \u001b[1;33m\u001b[0m\u001b[0m\n\u001b[0;32m     11\u001b[0m \u001b[1;32mfor\u001b[0m \u001b[0mi\u001b[0m \u001b[1;33m,\u001b[0m \u001b[0mcolumn\u001b[0m \u001b[1;32min\u001b[0m \u001b[0menumerate\u001b[0m\u001b[1;33m(\u001b[0m\u001b[0mz\u001b[0m\u001b[1;33m)\u001b[0m\u001b[1;33m:\u001b[0m\u001b[1;33m\u001b[0m\u001b[1;33m\u001b[0m\u001b[0m\n\u001b[1;32m---> 12\u001b[1;33m     \u001b[1;32mif\u001b[0m \u001b[0msubset_provinces\u001b[0m\u001b[1;33m[\u001b[0m\u001b[1;34m\"Geography\"\u001b[0m \u001b[1;33m==\u001b[0m \u001b[0mz\u001b[0m\u001b[1;33m]\u001b[0m\u001b[1;33m:\u001b[0m\u001b[1;33m\u001b[0m\u001b[1;33m\u001b[0m\u001b[0m\n\u001b[0m\u001b[0;32m     13\u001b[0m         \u001b[0msubset_provinces\u001b[0m\u001b[1;33m.\u001b[0m\u001b[0mgroupby\u001b[0m\u001b[1;33m(\u001b[0m\u001b[1;34m'Year'\u001b[0m\u001b[1;33m)\u001b[0m\u001b[1;33m[\u001b[0m\u001b[1;34m'Homicide'\u001b[0m\u001b[1;33m]\u001b[0m\u001b[1;33m.\u001b[0m\u001b[0msum\u001b[0m\u001b[1;33m(\u001b[0m\u001b[1;33m)\u001b[0m\u001b[1;33m.\u001b[0m\u001b[0mplot\u001b[0m\u001b[1;33m(\u001b[0m\u001b[0mkind\u001b[0m\u001b[1;33m=\u001b[0m\u001b[1;34m'bar'\u001b[0m\u001b[1;33m,\u001b[0m \u001b[0mcolor\u001b[0m\u001b[1;33m=\u001b[0m \u001b[1;34m'lightgreen'\u001b[0m\u001b[1;33m)\u001b[0m\u001b[1;33m\u001b[0m\u001b[1;33m\u001b[0m\u001b[0m\n\u001b[0;32m     14\u001b[0m \u001b[1;33m\u001b[0m\u001b[0m\n",
      "\u001b[1;32m~\\anaconda3\\lib\\site-packages\\pandas\\core\\frame.py\u001b[0m in \u001b[0;36m__getitem__\u001b[1;34m(self, key)\u001b[0m\n\u001b[0;32m   3447\u001b[0m         \u001b[1;31m# Do we have a (boolean) 1d indexer?\u001b[0m\u001b[1;33m\u001b[0m\u001b[1;33m\u001b[0m\u001b[0m\n\u001b[0;32m   3448\u001b[0m         \u001b[1;32mif\u001b[0m \u001b[0mcom\u001b[0m\u001b[1;33m.\u001b[0m\u001b[0mis_bool_indexer\u001b[0m\u001b[1;33m(\u001b[0m\u001b[0mkey\u001b[0m\u001b[1;33m)\u001b[0m\u001b[1;33m:\u001b[0m\u001b[1;33m\u001b[0m\u001b[1;33m\u001b[0m\u001b[0m\n\u001b[1;32m-> 3449\u001b[1;33m             \u001b[1;32mreturn\u001b[0m \u001b[0mself\u001b[0m\u001b[1;33m.\u001b[0m\u001b[0m_getitem_bool_array\u001b[0m\u001b[1;33m(\u001b[0m\u001b[0mkey\u001b[0m\u001b[1;33m)\u001b[0m\u001b[1;33m\u001b[0m\u001b[1;33m\u001b[0m\u001b[0m\n\u001b[0m\u001b[0;32m   3450\u001b[0m \u001b[1;33m\u001b[0m\u001b[0m\n\u001b[0;32m   3451\u001b[0m         \u001b[1;31m# We are left with two options: a single key, and a collection of keys,\u001b[0m\u001b[1;33m\u001b[0m\u001b[1;33m\u001b[0m\u001b[0m\n",
      "\u001b[1;32m~\\anaconda3\\lib\\site-packages\\pandas\\core\\frame.py\u001b[0m in \u001b[0;36m_getitem_bool_array\u001b[1;34m(self, key)\u001b[0m\n\u001b[0;32m   3494\u001b[0m             )\n\u001b[0;32m   3495\u001b[0m         \u001b[1;32melif\u001b[0m \u001b[0mlen\u001b[0m\u001b[1;33m(\u001b[0m\u001b[0mkey\u001b[0m\u001b[1;33m)\u001b[0m \u001b[1;33m!=\u001b[0m \u001b[0mlen\u001b[0m\u001b[1;33m(\u001b[0m\u001b[0mself\u001b[0m\u001b[1;33m.\u001b[0m\u001b[0mindex\u001b[0m\u001b[1;33m)\u001b[0m\u001b[1;33m:\u001b[0m\u001b[1;33m\u001b[0m\u001b[1;33m\u001b[0m\u001b[0m\n\u001b[1;32m-> 3496\u001b[1;33m             raise ValueError(\n\u001b[0m\u001b[0;32m   3497\u001b[0m                 \u001b[1;34mf\"Item wrong length {len(key)} instead of {len(self.index)}.\"\u001b[0m\u001b[1;33m\u001b[0m\u001b[1;33m\u001b[0m\u001b[0m\n\u001b[0;32m   3498\u001b[0m             )\n",
      "\u001b[1;31mValueError\u001b[0m: Item wrong length 11 instead of 165."
     ]
    },
    {
     "data": {
      "text/plain": [
       "<Figure size 900x600 with 0 Axes>"
      ]
     },
     "metadata": {},
     "output_type": "display_data"
    },
    {
     "data": {
      "image/png": "[encoded data removed]",
      "text/plain": [
       "<Figure size 432x288 with 12 Axes>"
      ]
     },
     "metadata": {
      "needs_background": "light"
     },
     "output_type": "display_data"
    }
   ],
   "source": [
    "# plot homicide trend in bar chart\n",
    "plt.figure(figsize= (6,4), dpi = 150)\n",
    "# Define the number of rows and columns you want\n",
    "n_rows=4\n",
    "n_cols=3\n",
    "\n",
    "\n",
    "# Create the subplots\n",
    "fig, axs = plt.subplots(nrows=n_rows, ncols=n_cols)\n",
    "\n",
    "for i , column in enumerate(z):\n",
    "    if subset_provinces[\"Geography\" == z]:\n",
    "        subset_provinces.groupby('Year')['Homicide'].sum().plot(kind='bar', color= 'lightgreen')\n",
    "\n",
    "\n",
    "# Add labels and title.uniq]\n",
    "plt.xlabel('Year')\n",
    "plt.ylabel('Number of Homicide')\n",
    "plt.title('Homicide Trend in Canada')"
   ]
  },
  {
   "cell_type": "code",
   "execution_count": null,
   "id": "7b91d290-f474-46b5-b0b5-b2ac63e316be",
   "metadata": {},
   "outputs": [],
   "source": [
    "Generally, homicide yearly rates were in decline from 2006 t0 2013 and it started move up from 2014 to 2020.\n",
    "The rate at 2020 surpaased previous records (starting from 2006)"
   ]
  },
  {
   "cell_type": "code",
   "execution_count": 151,
   "id": "5d710874-6570-4fe0-ba0e-cede0e185429",
   "metadata": {},
   "outputs": [
    {
     "name": "stdout",
     "output_type": "stream",
     "text": [
      "605       7\n",
      "606       3\n",
      "607       5\n",
      "608       1\n",
      "609       4\n",
      "       ... \n",
      "2000     60\n",
      "2005    139\n",
      "2010     98\n",
      "2015      0\n",
      "2020      6\n",
      "Name: Homicide, Length: 165, dtype: int64\n"
     ]
    }
   ],
   "source": [
    "#set the features and targets\n",
    "\n",
    "features = ['Attempted.Murder', 'Sexual.Assault..Level.1', 'Assault..Level.1', 'Criminal.Harassment', 'Uttering.Threats', 'Geography']\n",
    "X1 = subset_provinces[features]\n",
    "\n",
    "y = subset_provinces.Homicide\n",
    "print(y)"
   ]
  },
  {
   "cell_type": "code",
   "execution_count": 112,
   "id": "8f2a692e-c757-43fa-b9c2-be238e3ad552",
   "metadata": {},
   "outputs": [
    {
     "data": {
      "image/png": "[encoded data removed]",
      "text/plain": [
       "<Figure size 1080x360 with 5 Axes>"
      ]
     },
     "metadata": {
      "needs_background": "light"
     },
     "output_type": "display_data"
    }
   ],
   "source": [
    "\n",
    "import seaborn as sns\n",
    "# Define the number of rows and columns you want\n",
    "n_rows=2\n",
    "n_cols=3\n",
    "\n",
    "features_crime = features[:-1]\n",
    "# Create the subplots\n",
    "fig, axes = plt.subplots(nrows=n_rows, ncols=n_cols)\n",
    "fig.set_size_inches(15, 5)\n",
    "for i, column in enumerate(features_crime):\n",
    "    sns.histplot(subset_provinces[column], ax=axes[i//n_cols, i % n_cols], kde=True)\n",
    "plt.tight_layout()\n",
    "# Removing empty subplot\n",
    "fig.delaxes(axes[1,2])"
   ]
  },
  {
   "cell_type": "code",
   "execution_count": 184,
   "id": "b359e664-2340-45c7-88ea-4ae1f087e922",
   "metadata": {},
   "outputs": [
    {
     "data": {
      "image/png": "[encoded data removed]",
      "text/plain": [
       "<Figure size 900x600 with 2 Axes>"
      ]
     },
     "metadata": {
      "needs_background": "light"
     },
     "output_type": "display_data"
    }
   ],
   "source": [
    "# create correlation matrix\n",
    "corr_matrix = subset_provinces.pivot_table(index=\"Geography\", columns=\"Year\", values=\"Homicide\")\n",
    "\n",
    "# create heatmap\n",
    "plt.figure(figsize= (6,4), dpi = 150)\n",
    "sns.heatmap(corr_matrix, cmap=\"coolwarm\")\n",
    "\n",
    "# Add title\n",
    "plt.title(\"Canada Homicide Heatmap\")\n",
    "\n",
    "# Show plot\n",
    "plt.show()"
   ]
  },
  {
   "cell_type": "code",
   "execution_count": null,
   "id": "a3807374-f18b-4358-843b-5a4f28331b22",
   "metadata": {},
   "outputs": [],
   "source": [
    "Relatively, there have been lower rates of homicide in Atlantic provinces(New Brunswick, Newfoundland  and Labrador, and Nova Scotia), Northwest Territories and Yukon.\n",
    "Yukon has onsistently low number of homicide in the period under consideration while Ontario has the highest number of homicide  in 2018."
   ]
  },
  {
   "cell_type": "code",
   "execution_count": 91,
   "id": "b5e1d62c-0819-43e7-aa1b-9d85467f1f78",
   "metadata": {},
   "outputs": [],
   "source": [
    "from sklearn.preprocessing import MultiLabelBinarizer\n",
    "\n",
    "mlb = MultiLabelBinarizer()\n",
    "encoded = mlb.fit_transform(X1['Geography'])\n",
    "encoded_X = pd.DataFrame(encoded, columns=mlb.classes_, index=X1['Geography'].index)\n",
    "\n",
    "# Drop old column and merge new encoded columns\n",
    "X2 = X1.drop('Geography', axis=1)\n",
    "X = pd.concat([X2, encoded_X], axis=1, sort=False)\n"
   ]
  },
  {
   "cell_type": "code",
   "execution_count": 92,
   "id": "20073ee8-f566-44e4-a8cb-1990de7c7a05",
   "metadata": {},
   "outputs": [
    {
     "name": "stdout",
     "output_type": "stream",
     "text": [
      "         A  B  C  L  M  N  O  Q  S  ...  l  m  n  o  r  s  t  u  v  w\n",
      "605   1  0  0  0  1  0  1  0  0  0  ...  1  0  1  1  1  0  0  1  0  1\n",
      "606   1  0  0  0  1  0  1  0  0  0  ...  1  0  1  1  1  0  0  1  0  1\n",
      "607   1  0  0  0  1  0  1  0  0  0  ...  1  0  1  1  1  0  0  1  0  1\n",
      "608   1  0  0  0  1  0  1  0  0  0  ...  1  0  1  1  1  0  0  1  0  1\n",
      "609   1  0  0  0  1  0  1  0  0  0  ...  1  0  1  1  1  0  0  1  0  1\n",
      "...  .. .. .. .. .. .. .. .. .. ..  ... .. .. .. .. .. .. .. .. .. ..\n",
      "2000  0  0  0  0  0  0  0  0  0  1  ...  0  0  1  0  0  1  1  0  0  1\n",
      "2005  0  1  0  0  0  0  0  0  0  0  ...  1  0  0  0  1  0  1  0  0  0\n",
      "2010  1  0  1  1  0  0  0  0  0  0  ...  1  1  0  1  1  1  1  1  0  0\n",
      "2015  0  0  0  0  0  0  0  0  0  0  ...  0  0  1  1  0  0  0  1  0  0\n",
      "2020  1  0  0  0  0  0  1  0  0  0  ...  0  0  0  1  1  1  1  0  0  1\n",
      "\n",
      "[165 rows x 31 columns]\n"
     ]
    }
   ],
   "source": [
    "print(encoded_X)"
   ]
  },
  {
   "cell_type": "code",
   "execution_count": 93,
   "id": "b0d656b5-9fd2-47c1-9308-df292c0738ba",
   "metadata": {},
   "outputs": [],
   "source": [
    "# split for training and testing\n",
    "from sklearn.model_selection import train_test_split\n",
    "\n",
    "X_train,X_test,y_train,y_test = train_test_split(X,y,test_size=0.2,random_state=42)"
   ]
  },
  {
   "cell_type": "code",
   "execution_count": 35,
   "id": "c58007fa-41a9-4aad-aa1b-f589f1ac7a9c",
   "metadata": {},
   "outputs": [],
   "source": [
    "# numeric_features = X.iloc[:,:-2].columns\n",
    "\n",
    "# category_features = X.iloc[:,-1:].columns\n",
    "\n",
    "# X_train = pd.get_dummies(X,columns=['Geography'])\n",
    "# # y_train = pd.get_dummies(y,columns=['Geography'])\n",
    "# print(X_train)\n",
    "# # pd.get_dummies(X,columns=['Geography']).head()\n",
    "# # print(X.head())"
   ]
  },
  {
   "cell_type": "code",
   "execution_count": 13,
   "id": "a15b658a-07c8-4c30-a23f-8524b7cabd20",
   "metadata": {},
   "outputs": [],
   "source": [
    "# from sklearn.pipeline import Pipeline\n",
    "# from sklearn.impute import SimpleImputer\n",
    "# from sklearn.preprocessing import StandardScaler, OneHotEncoder\n",
    "# from sklearn.compose import ColumnTransformer\n",
    "\n",
    "# numeric_transformer = Pipeline(steps=[\n",
    "#     ('imputer', SimpleImputer(strategy='mean')),\n",
    "#     ('scaler', StandardScaler())])\n",
    "\n",
    "\n",
    "# categorical_transformer = Pipeline(steps=[\n",
    "#     ('imputer', SimpleImputer(strategy='most_frequent')),\n",
    "#     ('onehot', OneHotEncoder(handle_unknown ='ignore'))\n",
    "# ])\n",
    "\n",
    "# preprocessor = ColumnTransformer(\n",
    "#     transformers=[\n",
    "#         ('num',numeric_transformer,numeric_features),\n",
    "#         ('cat', categorical_transformer, category_features)\n",
    "#     ])\n",
    "    "
   ]
  },
  {
   "cell_type": "code",
   "execution_count": 94,
   "id": "e18edd4a-79ac-405a-abee-7bab5b3c9a3b",
   "metadata": {},
   "outputs": [],
   "source": [
    "# define random forest regressor model\n",
    "from sklearn.ensemble import RandomForestRegressor\n",
    "\n",
    "number_of_trees = 100 # set the number of trees in the forest\n",
    "model = RandomForestRegressor(n_estimators = number_of_trees, random_state = 42)"
   ]
  },
  {
   "cell_type": "code",
   "execution_count": 15,
   "id": "3bee6ebf-8b92-4f7e-9fcb-0f9b5bcb5545",
   "metadata": {},
   "outputs": [],
   "source": [
    "# complete_model = Pipeline(steps=[('preprocessor',preprocessor),\n",
    "#                           ('regressor', model)])                               "
   ]
  },
  {
   "cell_type": "code",
   "execution_count": 95,
   "id": "65975171-998d-4d0c-817d-2546ee88d968",
   "metadata": {},
   "outputs": [
    {
     "data": {
      "text/plain": [
       "RandomForestRegressor(random_state=42)"
      ]
     },
     "execution_count": 95,
     "metadata": {},
     "output_type": "execute_result"
    }
   ],
   "source": [
    "model.fit(X_train,y_train)\n",
    "\n",
    "\n",
    "#complete_model.fit(X_train,y_train)\n",
    "# print(y_train)\n"
   ]
  },
  {
   "cell_type": "code",
   "execution_count": 96,
   "id": "de086ca7-0f06-4dd8-8037-13a4acb0b16a",
   "metadata": {},
   "outputs": [
    {
     "name": "stdout",
     "output_type": "stream",
     "text": [
      "Root mean square is: 13.880044974165195\n",
      "\n",
      "R2 score is: 0.925258848013999\n"
     ]
    }
   ],
   "source": [
    "from sklearn.metrics import mean_squared_error, r2_score\n",
    "\n",
    "# predict test data\n",
    "\n",
    "y_pred = model.predict(X_test)\n",
    "\n",
    "#calculate the ean squared error\n",
    "pred_rmse = np.sqrt(mean_squared_error(y_test, y_pred))\n",
    "\n",
    "# calculate R^2                 \n",
    "pred_r2 = r2_score(y_test, y_pred)\n",
    "\n",
    "# print performance metrics                 \n",
    "print(\"Root mean square is:\", pred_rmse)\n",
    "print(\"\\nR2 score is:\", pred_r2)\n",
    "\n",
    "# X_test = pd.get_dummies(X,columns=['Geography'])\n",
    "# y_test = pd.get_dummies(X,columns=['Geography'])"
   ]
  },
  {
   "cell_type": "code",
   "execution_count": 97,
   "id": "ead64f0b-3e02-4361-824f-e1f8cc3b8ea2",
   "metadata": {},
   "outputs": [
    {
     "name": "stdout",
     "output_type": "stream",
     "text": [
      "0.24206182277577032\n"
     ]
    }
   ],
   "source": [
    "# calculate error percent\n",
    "print(pred_rmse/np.mean(y_train))"
   ]
  },
  {
   "cell_type": "code",
   "execution_count": 98,
   "id": "87abba88-ca6e-4113-887a-0c35ede62b68",
   "metadata": {},
   "outputs": [
    {
     "data": {
      "image/png": "[encoded data removed]",
      "text/plain": [
       "<Figure size 900x600 with 1 Axes>"
      ]
     },
     "metadata": {
      "needs_background": "light"
     },
     "output_type": "display_data"
    }
   ],
   "source": [
    "# show how the model fits the test data\n",
    "\n",
    "plt.figure(dpi=150)\n",
    "plt.scatter(y_test, y_pred, alpha = 0.5)\n",
    "plt.plot([min(y_train), max(y_train)], [min(y_train), max(y_train)], '--', color = 'blue')\n",
    "plt.title(\"Actual Homicide vs predicted Homicide\")\n",
    "plt.xlabel('Actual Homicide')\n",
    "plt.ylabel('Predicted Homicide')\n",
    "plt.show()"
   ]
  },
  {
   "cell_type": "code",
   "execution_count": 99,
   "id": "984d8efb-5e04-4566-b67f-1f336b9dae22",
   "metadata": {},
   "outputs": [
    {
     "name": "stdout",
     "output_type": "stream",
     "text": [
      "(33, 36)\n"
     ]
    }
   ],
   "source": [
    "print(X_test.shape)"
   ]
  },
  {
   "cell_type": "code",
   "execution_count": 100,
   "id": "c9f66437-c095-4778-bd39-b3a2ac1e7ca0",
   "metadata": {},
   "outputs": [
    {
     "name": "stdout",
     "output_type": "stream",
     "text": [
      "(33,)\n"
     ]
    }
   ],
   "source": [
    "print(y_pred.shape)"
   ]
  },
  {
   "cell_type": "code",
   "execution_count": 101,
   "id": "6606dcc4-548b-4c9a-90fe-8ba64cff4298",
   "metadata": {},
   "outputs": [
    {
     "name": "stdout",
     "output_type": "stream",
     "text": [
      "(132,)\n"
     ]
    }
   ],
   "source": [
    "print(y_train.shape)"
   ]
  },
  {
   "cell_type": "code",
   "execution_count": 122,
   "id": "28f10744-5a7e-4c2a-b4f0-f6efa7b7d445",
   "metadata": {},
   "outputs": [
    {
     "name": "stdout",
     "output_type": "stream",
     "text": [
      "      Homicide\n",
      "1495        83\n",
      "1365        42\n",
      "1460         2\n",
      "921         30\n",
      "1105         3\n",
      "787         92\n",
      "1990       234\n",
      "881         52\n",
      "1280        11\n",
      "1560        15\n",
      "741          8\n",
      "1059         1\n",
      "701         17\n",
      "968         95\n",
      "746          6\n",
      "788         88\n",
      "1475         2\n",
      "1300        44\n",
      "1600         2\n",
      "702         13\n",
      "1013       118\n",
      "740          7\n",
      "698         15\n",
      "695         16\n",
      "789         84\n",
      "1980        14\n",
      "1108         3\n",
      "922         30\n",
      "1490        13\n",
      "2005       139\n",
      "1515        81\n",
      "1016        71\n",
      "926         29\n"
     ]
    }
   ],
   "source": [
    "print(pd.DataFrame(y_test))"
   ]
  },
  {
   "cell_type": "code",
   "execution_count": 121,
   "id": "bb1d889e-974d-43f1-90d5-b3b9a955d992",
   "metadata": {},
   "outputs": [
    {
     "name": "stdout",
     "output_type": "stream",
     "text": [
      "         0\n",
      "0    89.40\n",
      "1    49.40\n",
      "2     3.63\n",
      "3    44.67\n",
      "4     4.03\n",
      "5    96.52\n",
      "6   196.68\n",
      "7    51.94\n",
      "8     8.08\n",
      "9    13.74\n",
      "10    7.98\n",
      "11    2.80\n",
      "12   14.46\n",
      "13   98.65\n",
      "14    8.98\n",
      "15   92.94\n",
      "16    3.49\n",
      "17   31.94\n",
      "18    5.28\n",
      "19   14.83\n",
      "20   97.15\n",
      "21    9.83\n",
      "22   16.13\n",
      "23   20.87\n",
      "24   91.33\n",
      "25   10.73\n",
      "26    2.42\n",
      "27   39.83\n",
      "28    9.39\n",
      "29   88.30\n",
      "30  112.68\n",
      "31   84.19\n",
      "32   32.37\n"
     ]
    }
   ],
   "source": [
    "print(pd.DataFrame(y_pred))"
   ]
  },
  {
   "cell_type": "code",
   "execution_count": 53,
   "id": "04ed8e3c-fdd1-4bef-9445-093724c6ee2c",
   "metadata": {},
   "outputs": [],
   "source": [
    "#print(X)"
   ]
  },
  {
   "cell_type": "code",
   "execution_count": 104,
   "id": "d38eed0c-16aa-4666-85db-805c0c13f12c",
   "metadata": {},
   "outputs": [
    {
     "name": "stdout",
     "output_type": "stream",
     "text": [
      "605       7\n",
      "606       3\n",
      "607       5\n",
      "608       1\n",
      "609       4\n",
      "       ... \n",
      "2000     60\n",
      "2005    139\n",
      "2010     98\n",
      "2015      0\n",
      "2020      6\n",
      "Name: Homicide, Length: 165, dtype: int64\n"
     ]
    }
   ],
   "source": [
    "print(y)"
   ]
  },
  {
   "cell_type": "code",
   "execution_count": null,
   "id": "8ef1c458-76fc-4e46-a8c9-ad803050225b",
   "metadata": {},
   "outputs": [],
   "source": []
  }
 ],
 "metadata": {
  "kernelspec": {
   "display_name": "Python 3 (ipykernel)",
   "language": "python",
   "name": "python3"
  },
  "language_info": {
   "codemirror_mode": {
    "name": "ipython",
    "version": 3
   },
   "file_extension": ".py",
   "mimetype": "text/x-python",
   "name": "python",
   "nbconvert_exporter": "python",
   "pygments_lexer": "ipython3",
   "version": "3.9.7"
  }
 },
 "nbformat": 4,
 "nbformat_minor": 5
}
